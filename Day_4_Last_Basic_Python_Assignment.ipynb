{
  "nbformat": 4,
  "nbformat_minor": 0,
  "metadata": {
    "colab": {
      "provenance": [],
      "collapsed_sections": [
        "uRvHq6WK1iip",
        "HrRqpK9A1mvj",
        "ZlrFrill3Bl4"
      ],
      "include_colab_link": true
    },
    "kernelspec": {
      "name": "python3",
      "display_name": "Python 3"
    },
    "language_info": {
      "name": "python"
    }
  },
  "cells": [
    {
      "cell_type": "markdown",
      "metadata": {
        "id": "view-in-github",
        "colab_type": "text"
      },
      "source": [
        "<a href=\"https://colab.research.google.com/github/Varshithanelli/python/blob/main/Day_4_Last_Basic_Python_Assignment.ipynb\" target=\"_parent\"><img src=\"https://colab.research.google.com/assets/colab-badge.svg\" alt=\"Open In Colab\"/></a>"
      ]
    },
    {
      "cell_type": "markdown",
      "source": [
        "`Good morning, wish you all the best,.All the 3 assignment has been included here only`"
      ],
      "metadata": {
        "id": "jWYB760w4xUu"
      }
    },
    {
      "cell_type": "markdown",
      "source": [
        "# Part ONe"
      ],
      "metadata": {
        "id": "uRvHq6WK1iip"
      }
    },
    {
      "cell_type": "markdown",
      "source": [
        "## 1. Create a function that sum only the float number from a given hetrogenous list"
      ],
      "metadata": {
        "id": "xpZzcKAyyb6V"
      }
    },
    {
      "cell_type": "code",
      "source": [
        "def sum_float(l):\n",
        "  l2=[]\n",
        "  for i in l:\n",
        "    if isinstance(i,float):\n",
        "      l2.append(i)\n",
        "  return(sum(l2))\n",
        "\n",
        "\n",
        "\n",
        "  l=[\"hello\", 1, 1.2, \"c\",2.5,3,'u',3.7]\n",
        "s=sum_float(l)\n",
        "print(s)"
      ],
      "metadata": {
        "id": "eLlEJRxTy8_f",
        "colab": {
          "base_uri": "https://localhost:8080/"
        },
        "outputId": "473cd6e0-7d9a-4d2e-e919-42db886c8a67"
      },
      "execution_count": 13,
      "outputs": [
        {
          "output_type": "stream",
          "name": "stdout",
          "text": [
            "7.4\n"
          ]
        }
      ]
    },
    {
      "cell_type": "code",
      "source": [
        "# reverse the list using the loop\n",
        "l=[1,2,3,4,5]\n",
        "n=len(l)\n",
        "l2=[]\n",
        "while n!=0:\n",
        "  l2.append(l[n-1])\n",
        "  n=n-1\n",
        "print(l2)\n"
      ],
      "metadata": {
        "id": "TO6D3KTSy9-x",
        "colab": {
          "base_uri": "https://localhost:8080/"
        },
        "outputId": "4fbee1fc-9d0e-4dc7-e490-47bd9dc3188e"
      },
      "execution_count": 15,
      "outputs": [
        {
          "output_type": "stream",
          "name": "stdout",
          "text": [
            "[5, 4, 3, 2, 1]\n"
          ]
        }
      ]
    },
    {
      "cell_type": "markdown",
      "source": [
        "## 2. Count the total number of digit using the loop"
      ],
      "metadata": {
        "id": "MxMyCaZHzEB-"
      }
    },
    {
      "cell_type": "code",
      "source": [
        "l=[1,2,3,4,5]\n",
        "count=0\n",
        "for i in l:\n",
        "  count=count+1\n",
        "print(count)"
      ],
      "metadata": {
        "id": "DZYJiYdQzcVv",
        "colab": {
          "base_uri": "https://localhost:8080/"
        },
        "outputId": "67ff91fd-13ce-4337-9cbf-c0aa3bd5ca38"
      },
      "execution_count": 17,
      "outputs": [
        {
          "output_type": "stream",
          "name": "stdout",
          "text": [
            "5\n"
          ]
        }
      ]
    },
    {
      "cell_type": "markdown",
      "source": [
        "## 3. Display this\n",
        "5 4 3 2 1\n",
        "\n",
        "4 3 2 1\n",
        "\n",
        "3 2 1\n",
        "\n",
        "2 1\n",
        "\n",
        "1"
      ],
      "metadata": {
        "id": "kG8Phx7VzYWD"
      }
    },
    {
      "cell_type": "code",
      "source": [
        "for i in range(5, 0, -1):\n",
        "    for j in range(i, 0, -1):\n",
        "        print(j, end=\" \")\n",
        "    print()\n"
      ],
      "metadata": {
        "id": "CEf09kMLuzI2",
        "outputId": "a15f34b4-cd70-4f51-85f0-3945bc4a7e38",
        "colab": {
          "base_uri": "https://localhost:8080/"
        }
      },
      "execution_count": 18,
      "outputs": [
        {
          "output_type": "stream",
          "name": "stdout",
          "text": [
            "5 4 3 2 1 \n",
            "4 3 2 1 \n",
            "3 2 1 \n",
            "2 1 \n",
            "1 \n"
          ]
        }
      ]
    },
    {
      "cell_type": "markdown",
      "source": [
        "## 4. Display this"
      ],
      "metadata": {
        "id": "xTaGWpQXzy-M"
      }
    },
    {
      "cell_type": "code",
      "source": [
        "*\n",
        "* *\n",
        "* * *\n",
        "* * * *\n",
        "* * * * *\n",
        "* * * *\n",
        "* * *\n",
        "* *\n",
        "*"
      ],
      "metadata": {
        "id": "ixPmbjRfzx16"
      },
      "execution_count": null,
      "outputs": []
    },
    {
      "cell_type": "code",
      "source": [
        "rows = 5\n",
        "\n",
        "# Upper half of the pattern\n",
        "for i in range(1, rows + 1):\n",
        "    for j in range(1, i + 1):\n",
        "        print(\"*\", end=\" \")\n",
        "    print()\n",
        "\n",
        "# Lower half of the pattern\n",
        "for i in range(rows - 1, 0, -1):\n",
        "    for j in range(1, i + 1):\n",
        "        print(\"*\", end=\" \")\n",
        "    print()\n"
      ],
      "metadata": {
        "id": "6nUKoddi4sdm",
        "outputId": "f781a712-5061-46cc-f740-503881032174",
        "colab": {
          "base_uri": "https://localhost:8080/"
        }
      },
      "execution_count": 19,
      "outputs": [
        {
          "output_type": "stream",
          "name": "stdout",
          "text": [
            "* \n",
            "* * \n",
            "* * * \n",
            "* * * * \n",
            "* * * * * \n",
            "* * * * \n",
            "* * * \n",
            "* * \n",
            "* \n"
          ]
        }
      ]
    },
    {
      "cell_type": "markdown",
      "source": [
        "## 5. Write function that generate multiplication table upto a given range in Python"
      ],
      "metadata": {
        "id": "1OYQk9N70Ax3"
      }
    },
    {
      "cell_type": "code",
      "source": [
        "n=int(input(\"enter range: \"))\n",
        "for i in range(n+1):\n",
        "  print(n,\"*\",i,\"=\",n*i)"
      ],
      "metadata": {
        "id": "NeosDqO904-u",
        "colab": {
          "base_uri": "https://localhost:8080/"
        },
        "outputId": "0ad8799e-d878-437e-d95f-6539a6fb8518"
      },
      "execution_count": 22,
      "outputs": [
        {
          "output_type": "stream",
          "name": "stdout",
          "text": [
            "enter range: 5\n",
            "5 * 0 = 0\n",
            "5 * 1 = 5\n",
            "5 * 2 = 10\n",
            "5 * 3 = 15\n",
            "5 * 4 = 20\n",
            "5 * 5 = 25\n"
          ]
        }
      ]
    },
    {
      "cell_type": "code",
      "source": [
        "# what are the difference between the list comprehension and loop??"
      ],
      "metadata": {
        "id": "V9z-kXUi0468"
      },
      "execution_count": null,
      "outputs": []
    },
    {
      "cell_type": "code",
      "source": [
        "def multiplication_table(up_to_range):\n",
        "    for i in range(1, up_to_range + 1):\n",
        "        for j in range(1, up_to_range + 1):\n",
        "            print(f\"{i} * {j} = {i * j}\")\n",
        "        print()\n",
        "\n",
        "# Example usage:\n",
        "range_limit = 5\n",
        "multiplication_table(range_limit)\n"
      ],
      "metadata": {
        "id": "e0eLnJqd04b2",
        "colab": {
          "base_uri": "https://localhost:8080/"
        },
        "outputId": "cf45894c-800a-4f1d-dd4b-3badac645163"
      },
      "execution_count": 23,
      "outputs": [
        {
          "output_type": "stream",
          "name": "stdout",
          "text": [
            "1 * 1 = 1\n",
            "1 * 2 = 2\n",
            "1 * 3 = 3\n",
            "1 * 4 = 4\n",
            "1 * 5 = 5\n",
            "\n",
            "2 * 1 = 2\n",
            "2 * 2 = 4\n",
            "2 * 3 = 6\n",
            "2 * 4 = 8\n",
            "2 * 5 = 10\n",
            "\n",
            "3 * 1 = 3\n",
            "3 * 2 = 6\n",
            "3 * 3 = 9\n",
            "3 * 4 = 12\n",
            "3 * 5 = 15\n",
            "\n",
            "4 * 1 = 4\n",
            "4 * 2 = 8\n",
            "4 * 3 = 12\n",
            "4 * 4 = 16\n",
            "4 * 5 = 20\n",
            "\n",
            "5 * 1 = 5\n",
            "5 * 2 = 10\n",
            "5 * 3 = 15\n",
            "5 * 4 = 20\n",
            "5 * 5 = 25\n",
            "\n"
          ]
        }
      ]
    },
    {
      "cell_type": "markdown",
      "source": [
        "# Part two"
      ],
      "metadata": {
        "id": "HrRqpK9A1mvj"
      }
    },
    {
      "cell_type": "markdown",
      "source": [
        "## 6. Write a python program for the palindrome checker using the loop"
      ],
      "metadata": {
        "id": "T36QPuxw1pfo"
      }
    },
    {
      "cell_type": "code",
      "source": [
        "def is_palindrome(word):\n",
        "    # Convert the word to lowercase to make the check case-insensitive\n",
        "    word = word.lower()\n",
        "\n",
        "    # Remove spaces from the word\n",
        "    word = ''.join(word.split())\n",
        "\n",
        "    # Initialize pointers for the loop\n",
        "    start = 0\n",
        "    end = len(word) - 1\n",
        "\n",
        "    # Check if the word is a palindrome using a loop\n",
        "    while start < end:\n",
        "        if word[start] != word[end]:\n",
        "            return False\n",
        "        start += 1\n",
        "        end -= 1\n",
        "\n",
        "    return True\n",
        "\n",
        "# Example usage:\n",
        "input_word = input(\"Enter a word to check if it's a palindrome: \")\n",
        "if is_palindrome(input_word):\n",
        "    print(f\"{input_word} is a palindrome!\")\n",
        "else:\n",
        "    print(f\"{input_word} is not a palindrome.\")\n"
      ],
      "metadata": {
        "id": "5k_AjmF_2c6r",
        "colab": {
          "base_uri": "https://localhost:8080/"
        },
        "outputId": "c68d0a76-49f0-404c-ca0c-ad06825036b5"
      },
      "execution_count": 25,
      "outputs": [
        {
          "output_type": "stream",
          "name": "stdout",
          "text": [
            "Enter a word to check if it's a palindrome: madam\n",
            "madam is a palindrome!\n"
          ]
        }
      ]
    },
    {
      "cell_type": "markdown",
      "source": [
        "## 7. Factorial Calculation\n",
        "Write a program that calculates the factorial of a given number using a loop. The user should input the number, and the program should display its factorial."
      ],
      "metadata": {
        "id": "QLZ4Dc1O1zHm"
      }
    },
    {
      "cell_type": "code",
      "source": [
        "def factorial(num):\n",
        "    fact = 1\n",
        "\n",
        "    # Check if the number is non-negative\n",
        "    if num < 0:\n",
        "        return \"Factorial is not defined for negative numbers.\"\n",
        "    elif num == 0:\n",
        "        return 1\n",
        "    else:\n",
        "        for i in range(1, num+1):\n",
        "            fact *= i\n",
        "        return fact\n",
        "\n",
        "# Take user input for the number\n",
        "n= int(input(\"Enter a number: \"))\n",
        "\n",
        "# Calculate and display the factorial\n",
        "result = factorial(n)\n",
        "print(f\"The factorial of {n} is: {result}\")\n"
      ],
      "metadata": {
        "id": "XJZCGK0s2LYV",
        "colab": {
          "base_uri": "https://localhost:8080/"
        },
        "outputId": "34a806ac-6bdb-416b-a746-0f5dc89fca9c"
      },
      "execution_count": 27,
      "outputs": [
        {
          "output_type": "stream",
          "name": "stdout",
          "text": [
            "Enter a number: 5\n",
            "The factorial of 5 is: 120\n"
          ]
        }
      ]
    },
    {
      "cell_type": "markdown",
      "source": [
        "## 8. Binary to Decimal Converter\n",
        "Create a program that converts a binary number (entered by the user) to its decimal equivalent. The user should input the binary number as a string, and the program should output its decimal equivalent."
      ],
      "metadata": {
        "id": "dAX_1Cgx2LtY"
      }
    },
    {
      "cell_type": "code",
      "source": [
        "def binary_to_decimal(binary_str):\n",
        "    decimal_num = 0\n",
        "    binary_str = binary_str[::-1]  # Reverse the binary string for easier calculation\n",
        "\n",
        "    for i in range(len(binary_str)):\n",
        "        if binary_str[i] == '1':\n",
        "            decimal_num += 2**i\n",
        "\n",
        "    return decimal_num\n",
        "\n",
        "# Take user input for the binary number\n",
        "binary_input = input(\"Enter a binary number: \")\n",
        "\n",
        "# Check if the input contains only 0s and 1s\n",
        "if all(bit in '01' for bit in binary_input):\n",
        "    # Convert and display the decimal equivalent\n",
        "    decimal_result = binary_to_decimal(binary_input)\n",
        "    print(f\"The decimal equivalent of {binary_input} is: {decimal_result}\")\n",
        "else:\n",
        "    print(\"Invalid input. Please enter a binary number containing only 0s and 1s.\")\n"
      ],
      "metadata": {
        "id": "qnpCrNUtaRcn",
        "outputId": "4f6b7540-b500-450d-fb18-ccfc029ef1c9",
        "colab": {
          "base_uri": "https://localhost:8080/"
        }
      },
      "execution_count": 28,
      "outputs": [
        {
          "output_type": "stream",
          "name": "stdout",
          "text": [
            "Enter a binary number: 1011\n",
            "The decimal equivalent of 1011 is: 11\n"
          ]
        }
      ]
    },
    {
      "cell_type": "markdown",
      "source": [
        "`Feel free to tackle these exercises and let me know if you have any questions or need further explanations!`"
      ],
      "metadata": {
        "id": "l1a5wpfM2hv6"
      }
    },
    {
      "cell_type": "markdown",
      "source": [
        "# Part Three File Handling\n",
        "Calm and do it slowly and in github also try to upload the files possible"
      ],
      "metadata": {
        "id": "ZlrFrill3Bl4"
      }
    },
    {
      "cell_type": "markdown",
      "source": [
        "## 11. program to open the text file and edit it"
      ],
      "metadata": {
        "id": "-9k8YJfF3BLW"
      }
    },
    {
      "cell_type": "code",
      "source": [
        "def edit_text_file(file_path, old_string, new_string):\n",
        "    try:\n",
        "        # Open the file in read mode\n",
        "        with open(file_path, 'r') as file:\n",
        "            content = file.read()\n",
        "\n",
        "        # Replace the old string with the new string\n",
        "        edited_content = content.replace(old_string, new_string)\n",
        "\n",
        "        # Open the file in write mode and save the changes\n",
        "        with open(file_path, 'w') as file:\n",
        "            file.write(edited_content)\n",
        "\n",
        "        print(f\"File '{file_path}' has been successfully edited.\")\n",
        "\n",
        "    except FileNotFoundError:\n",
        "        print(f\"Error: File '{file_path}' not found.\")\n",
        "    except Exception as e:\n",
        "        print(f\"An error occurred: {e}\")\n",
        "\n",
        "# Example usage:\n",
        "file_path = \"C:\\\\Users\\\\Nelli Family 1\\\\Desktop\\\\v\\\\TRAINING.txt\"\n",
        "old_text = \"JAVA\"\n",
        "new_text = \"Java\"\n",
        "\n",
        "edit_text_file(file_path, old_text, new_text)\n"
      ],
      "metadata": {
        "id": "Quy4F2UR3c04",
        "colab": {
          "base_uri": "https://localhost:8080/"
        },
        "outputId": "546f22cf-9782-4b9e-ae75-c5538054c346"
      },
      "execution_count": 12,
      "outputs": [
        {
          "output_type": "stream",
          "name": "stdout",
          "text": [
            "Error: File 'C:\\Users\\Nelli Family 1\\Desktop\\v\\TRAINING.txt' not found.\n"
          ]
        }
      ]
    },
    {
      "cell_type": "markdown",
      "source": [
        "## 12. Program to list all the file in the directory\n"
      ],
      "metadata": {
        "id": "ovYWZKNH3AH_"
      }
    },
    {
      "cell_type": "code",
      "source": [
        "import os\n",
        "def list_files(directory):\n",
        "    \"\"\"List all files in the given directory.\"\"\"\n",
        "    try:\n",
        "        files = os.listdir(directory)\n",
        "        print(f\"Files in the directory '{directory}':\")\n",
        "        for file in files:\n",
        "            print(file)\n",
        "    except FileNotFoundError:\n",
        "        print(f\"Directory not found: {directory}\")\n",
        "    except Exception as e:\n",
        "        print(f\"An error occurred: {e}\")\n",
        "current_directory = os.getcwd()\n",
        "list_files(current_directory)"
      ],
      "metadata": {
        "id": "S260xGwo38vk",
        "colab": {
          "base_uri": "https://localhost:8080/"
        },
        "outputId": "b90fd48c-f20b-4772-b6dc-9dbcdd835b71"
      },
      "execution_count": 1,
      "outputs": [
        {
          "output_type": "stream",
          "name": "stdout",
          "text": [
            "Files in the directory '/content':\n",
            ".config\n",
            "sample_data\n"
          ]
        }
      ]
    },
    {
      "cell_type": "markdown",
      "source": [
        "## 13. program to find the name of list only the text file and only the image file specifically\n"
      ],
      "metadata": {
        "id": "pNalRqq-3mjE"
      }
    },
    {
      "cell_type": "code",
      "source": [
        "import os\n",
        "def list_text_files(directory):\n",
        "    \"\"\"List only text files in the given directory.\"\"\"\n",
        "    try:\n",
        "        text_files = [file for file in os.listdir(directory) if file.lower().endswith('.txt')]\n",
        "        print(f\"Text files in the directory '{directory}':\")\n",
        "        for text_file in text_files:\n",
        "            print(text_file)\n",
        "    except FileNotFoundError:\n",
        "        print(f\"Directory not found: {directory}\")\n",
        "    except Exception as e:\n",
        "        print(f\"An error occurred: {e}\")\n",
        "def list_image_files(directory):\n",
        "    \"\"\"List only image files in the given directory.\"\"\"\n",
        "    try:\n",
        "        image_files = [file for file in os.listdir(directory) if file.lower().endswith(('.jpg', '.jpeg', '.png', '.gif', '.bmp'))]\n",
        "        print(f\"Image files in the directory '{directory}':\")\n",
        "        for image_file in image_files:\n",
        "            print(image_file)\n",
        "    except FileNotFoundError:\n",
        "        print(f\"Directory not found: {directory}\")\n",
        "    except Exception as e:\n",
        "        print(f\"An error occurred: {e}\")\n",
        "current_directory = os.getcwd()\n",
        "list_text_files(current_directory)"
      ],
      "metadata": {
        "id": "CBu8XnffMAid",
        "outputId": "094e16ab-1f18-485a-bf01-65c9608065f1",
        "colab": {
          "base_uri": "https://localhost:8080/"
        }
      },
      "execution_count": 9,
      "outputs": [
        {
          "output_type": "stream",
          "name": "stdout",
          "text": [
            "Text files in the directory '/content':\n"
          ]
        }
      ]
    },
    {
      "cell_type": "markdown",
      "source": [
        "## 14. Program to copy the the file and also the bundle of file to the specific location"
      ],
      "metadata": {
        "id": "7xVL49o739jv"
      }
    },
    {
      "cell_type": "code",
      "source": [
        "import shutil\n",
        "import os\n",
        "def copy_file(source_path, destination_path):\n",
        "    \"\"\"Copy a single file to the specified destination.\"\"\"\n",
        "    try:\n",
        "        shutil.copy(source_path, destination_path)\n",
        "        print(f\"File '{os.path.basename(source_path)}' copied successfully to '{destination_path}'.\")\n",
        "    except FileNotFoundError:\n",
        "        print(f\"Source file not found: {source_path}\")\n",
        "    except Exception as e:\n",
        "        print(f\"An error occurred: {e}\")\n",
        "def copy_files(bundle, destination_path):\n",
        "    \"\"\"Copy a bundle of files to the specified destination.\"\"\"\n",
        "    try:\n",
        "        for source_path in bundle:\n",
        "            if os.path.exists(source_path):\n",
        "                shutil.copy(source_path, destination_path)\n",
        "                print(f\"File '{os.path.basename(source_path)}' copied successfully to '{destination_path}'.\")\n",
        "            else:\n",
        "                print(f\"Source file not found: {source_path}\")\n",
        "    except Exception as e:\n",
        "        print(f\"An error occurred: {e}\")\n",
        "source_file = 'C:\\\\Users\\\\Nelli Family 1\\\\Desktop\\\\example.txt'\n",
        "destination_folder = 'C:\\\\Users\\\\Nelli Family 1\\\\Desktop\\\\v'\n",
        "copy_file(source_file, destination_folder)\n",
        "print(\"\\n\" + \"=\" * 40 + \"\\n\")\n",
        "source_files_bundle = ['C:\\\\Users\\\\Nelli Family 1\\\\Desktop\\\\file1.txt', 'C:\\\\Users\\\\Nelli Family 1\\\\Desktop\\\\file2.txt', 'C:\\\\Users\\\\Nelli Family 1\\\\Desktop\\\\file3.txt']\n",
        "copy_files(source_files_bundle, destination_folder)"
      ],
      "metadata": {
        "id": "rlMl6YVH4I_z",
        "colab": {
          "base_uri": "https://localhost:8080/"
        },
        "outputId": "bfb0dae0-395d-426f-9dbc-b4dbf7013d6b"
      },
      "execution_count": 5,
      "outputs": [
        {
          "output_type": "stream",
          "name": "stdout",
          "text": [
            "Source file not found: C:\\Users\\Nelli Family 1\\Desktop\\example.txt\n",
            "\n",
            "========================================\n",
            "\n",
            "Source file not found: C:\\Users\\Nelli Family 1\\Desktop\\file1.txt\n",
            "Source file not found: C:\\Users\\Nelli Family 1\\Desktop\\file2.txt\n",
            "Source file not found: C:\\Users\\Nelli Family 1\\Desktop\\file3.txt\n"
          ]
        }
      ]
    },
    {
      "cell_type": "markdown",
      "source": [
        "## 15. Program to delete the specific file and folder"
      ],
      "metadata": {
        "id": "rzaMo5ZT4E7R"
      }
    },
    {
      "cell_type": "code",
      "source": [
        "import os\n",
        "import shutil\n",
        "def delete_file(file_path):\n",
        "    \"\"\"Delete a specific file.\"\"\"\n",
        "    try:\n",
        "        os.remove(file_path)\n",
        "        print(f\"File '{os.path.basename(file_path)}' deleted successfully.\")\n",
        "    except FileNotFoundError:\n",
        "        print(f\"File not found: {file_path}\")\n",
        "    except Exception as e:\n",
        "        print(f\"An error occurred: {e}\")\n",
        "def delete_folder(folder_path):\n",
        "    \"\"\"Delete a specific folder and its contents.\"\"\"\n",
        "    try:\n",
        "        shutil.rmtree(folder_path)\n",
        "        print(f\"Folder '{os.path.basename(folder_path)}' and its contents deleted successfully.\")\n",
        "    except FileNotFoundError:\n",
        "        print(f\"Folder not found: {folder_path}\")\n",
        "    except Exception as e:\n",
        "        print(f\"An error occurred: {e}\")\n",
        "#input a filepath and folderpath"
      ],
      "metadata": {
        "id": "Gpw4a5194oaa"
      },
      "execution_count": 8,
      "outputs": []
    },
    {
      "cell_type": "markdown",
      "source": [],
      "metadata": {
        "id": "O2PS1zXT4pF5"
      }
    }
  ]
}