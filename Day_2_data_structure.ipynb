{
  "nbformat": 4,
  "nbformat_minor": 0,
  "metadata": {
    "colab": {
      "provenance": [],
      "include_colab_link": true
    },
    "kernelspec": {
      "name": "python3",
      "display_name": "Python 3"
    },
    "language_info": {
      "name": "python"
    }
  },
  "cells": [
    {
      "cell_type": "markdown",
      "metadata": {
        "id": "view-in-github",
        "colab_type": "text"
      },
      "source": [
        "<a href=\"https://colab.research.google.com/github/Varshithanelli/python/blob/main/Day_2_data_structure.ipynb\" target=\"_parent\"><img src=\"https://colab.research.google.com/assets/colab-badge.svg\" alt=\"Open In Colab\"/></a>"
      ]
    },
    {
      "cell_type": "markdown",
      "source": [
        "## 1.Difference between the list and tuple?"
      ],
      "metadata": {
        "id": "HN6tCq60j2mQ"
      }
    },
    {
      "cell_type": "code",
      "source": [
        "#list is mutable and tuple is immutable i.e tuple elements cannot be changed\n",
        "my_list=[1,2,3]\n",
        "print(my_list)\n",
        "print(type(my_list))\n",
        "my_tuple=(4,5,6)\n",
        "print(my_tuple)\n",
        "print(type(my_tuple))\n",
        "#list elements are enclosed in square brackets while tuple elements are enclosed in curve brackets '()'"
      ],
      "metadata": {
        "id": "Cw8ffkhMk6RQ",
        "colab": {
          "base_uri": "https://localhost:8080/"
        },
        "outputId": "01abff37-b44b-4fb0-f425-ddc2e953b430"
      },
      "execution_count": 6,
      "outputs": [
        {
          "output_type": "stream",
          "name": "stdout",
          "text": [
            "[1, 2, 3]\n",
            "<class 'list'>\n",
            "(4, 5, 6)\n",
            "<class 'tuple'>\n"
          ]
        }
      ]
    },
    {
      "cell_type": "markdown",
      "source": [
        "## 2.How list is different from an array"
      ],
      "metadata": {
        "id": "uWhJG7hzk6Ov"
      }
    },
    {
      "cell_type": "code",
      "source": [
        "l=[2,3,4,5]\n",
        "print(l)\n",
        "#list can have heterogenous elements\n",
        "l1=[\"h\",\"hello\",22,5]\n",
        "print(l1)\n",
        "#creating array by importing numpy\n",
        "import numpy as np\n",
        "arr=np.array([32,5,3,7,8])\n",
        "print(arr)\n",
        "#arrays only stores homogenous elements\n",
        "#trying too add heterogenous elements\n",
        "arr1=np.array([1,\"h\",3,\"hello\"])\n",
        "#now every element in array turns out to be as string/character to form homogenous elements\n",
        "print(arr1)\n"
      ],
      "metadata": {
        "id": "MowyCcINo4Mn",
        "colab": {
          "base_uri": "https://localhost:8080/"
        },
        "outputId": "99422bff-9392-42d0-ad7a-f88a12e3c236"
      },
      "execution_count": 12,
      "outputs": [
        {
          "output_type": "stream",
          "name": "stdout",
          "text": [
            "[2, 3, 4, 5]\n",
            "['h', 'hello', 22, 5]\n",
            "[32  5  3  7  8]\n",
            "['1' 'h' '3' 'hello']\n"
          ]
        }
      ]
    },
    {
      "cell_type": "markdown",
      "source": [],
      "metadata": {
        "id": "1uPEIFbxmQwt"
      }
    },
    {
      "cell_type": "markdown",
      "source": [
        "## 3. Use the python list append(),copy(), clear, count, extends(), index(), insert(), pop(), reverse(), sort(), min(), max(),and sum()"
      ],
      "metadata": {
        "id": "_0Rn7JQSk6M1"
      }
    },
    {
      "cell_type": "code",
      "source": [
        "l=[1,2,3,4]\n",
        "print(l)\n",
        "l.append(5)\n",
        "print(\"after appending 5 in list:\",l)\n",
        "l2=l.copy()\n",
        "print(\"after copy operation\",l2)\n",
        "l.clear()\n",
        "print(\"after clearing the list\",l)\n",
        "l1=[5,6,7,8,9,10,9,4,6,6,5]\n",
        "print(l1)\n",
        "c=l1.count(9)\n",
        "print(\"count of 9 is: \",c)\n",
        "e=[4,8,\"h\",\"hello\"]\n",
        "l1.extend(e)\n",
        "print(\"after extending \",l1)\n",
        "i=l1.index(7)\n",
        "print(\"index of 7 is :\",i)\n",
        "l1.insert(5,55)\n",
        "print(\"after inserting \",l1)\n",
        "p=l1.pop()\n",
        "print(\"popped element :\",p)\n",
        "print(\"after popping list is:\",l1)\n",
        "l1.reverse()\n",
        "print(\"reversed list:\",l1)\n",
        "l3=[4,2,7,5,9,0,1,6,2]\n",
        "l3.sort()\n",
        "print(\"sorted list :\",l3)\n",
        "print(\"maximum element in list \",max(l3))\n",
        "print(\"minimum element in list \",min(l3))\n",
        "print(\"sum of the elements in list :\",sum(l3))\n"
      ],
      "metadata": {
        "colab": {
          "base_uri": "https://localhost:8080/"
        },
        "id": "9K_jQLRxZgfG",
        "outputId": "2e217780-c75e-4524-c0ad-ba3d73847024"
      },
      "execution_count": 7,
      "outputs": [
        {
          "output_type": "stream",
          "name": "stdout",
          "text": [
            "[1, 2, 3, 4]\n",
            "after appending 5 in list: [1, 2, 3, 4, 5]\n",
            "after copy operation [1, 2, 3, 4, 5]\n",
            "after clearing the list []\n",
            "[5, 6, 7, 8, 9, 10, 9, 4, 6, 6, 5]\n",
            "count of 9 is:  2\n",
            "after extending  [5, 6, 7, 8, 9, 10, 9, 4, 6, 6, 5, 4, 8, 'h', 'hello']\n",
            "index of 7 is : 2\n",
            "after inserting  [5, 6, 7, 8, 9, 55, 10, 9, 4, 6, 6, 5, 4, 8, 'h', 'hello']\n",
            "popped element : hello\n",
            "after popping list is: [5, 6, 7, 8, 9, 55, 10, 9, 4, 6, 6, 5, 4, 8, 'h']\n",
            "reversed list: ['h', 8, 4, 5, 6, 6, 4, 9, 10, 55, 9, 8, 7, 6, 5]\n",
            "sorted list : [0, 1, 2, 2, 4, 5, 6, 7, 9]\n",
            "maximum element in list  9\n",
            "minimum element in list  0\n",
            "sum of the elements in list : 36\n"
          ]
        }
      ]
    },
    {
      "cell_type": "markdown",
      "source": [
        "## 4, How would you divide the list into two parts?"
      ],
      "metadata": {
        "id": "W9xfjUWak6J_"
      }
    },
    {
      "cell_type": "code",
      "source": [
        "l=[1,2,3,4,5,6,7,8]\n",
        "print(l)\n",
        "n=len(l)//2\n",
        "l1=l[:n]\n",
        "print(l1)\n",
        "l2=l[n:]\n",
        "print(l2)"
      ],
      "metadata": {
        "colab": {
          "base_uri": "https://localhost:8080/"
        },
        "id": "vcd0Gj8jxj6i",
        "outputId": "ece084f7-5248-4cba-8b2a-6a3bdf1e1c51"
      },
      "execution_count": 8,
      "outputs": [
        {
          "output_type": "stream",
          "name": "stdout",
          "text": [
            "[1, 2, 3, 4, 5, 6, 7, 8]\n",
            "[1, 2, 3, 4]\n",
            "[5, 6, 7, 8]\n"
          ]
        }
      ]
    },
    {
      "cell_type": "markdown",
      "source": [
        "## 5. how to filter the multiple of 3 from a given list and them remove the odd number from the new filtered list.\n",
        "Eg A = [1,2,3,4,5,6,7,8,9,21,23,24]\n",
        "Filter_lsit = [3,6,9,21,24]\n",
        "output_list = [6,24]"
      ],
      "metadata": {
        "id": "Qb1mVGfnk6G5"
      }
    },
    {
      "cell_type": "code",
      "source": [
        "l=[1,2,3,4,5,6,7,8,9,21,23,24]\n",
        "print(l)\n",
        "l2=[]\n",
        "for i in l:\n",
        "  if i%3==0:\n",
        "    l2.append(i)\n",
        "print(\"filtered list with multiples of 3 :\",l2)\n",
        "l3=[]\n",
        "for i in l2:\n",
        "  if i%2==0:\n",
        "    l3.append(i)\n",
        "print(\"output list :\",l3)"
      ],
      "metadata": {
        "colab": {
          "base_uri": "https://localhost:8080/"
        },
        "id": "N2kFqfVvyU-l",
        "outputId": "8890b9eb-dad9-40e5-e239-d628b1a56f16"
      },
      "execution_count": 11,
      "outputs": [
        {
          "output_type": "stream",
          "name": "stdout",
          "text": [
            "[1, 2, 3, 4, 5, 6, 7, 8, 9, 21, 23, 24]\n",
            "filtered list with multiples of 3 : [3, 6, 9, 21, 24]\n",
            "output list : [6, 24]\n"
          ]
        }
      ]
    },
    {
      "cell_type": "markdown",
      "source": [
        "## 6. How you can access keys and values simultaneously and update its value"
      ],
      "metadata": {
        "id": "auhYyjixk6FD"
      }
    },
    {
      "cell_type": "code",
      "source": [
        "d={'a':1,'b':2,'c':3,'d':4}\n",
        "for key,value in d.items():\n",
        "  print(\"key\", key,\"value\", value)\n",
        "c=str(input(\"enter any key \"))\n",
        "a=int(input(\"enter the updated value \"))\n",
        "if c in d:\n",
        "  d[c]=a\n",
        "  print(\"key found and value updated\")\n",
        "else:\n",
        "  print(\"key not found\")\n",
        "print(\"updated dictionary :\",d)"
      ],
      "metadata": {
        "colab": {
          "base_uri": "https://localhost:8080/"
        },
        "id": "cpulgkBqzN_X",
        "outputId": "16f7e832-29eb-443b-c674-e962540e9c86"
      },
      "execution_count": 18,
      "outputs": [
        {
          "output_type": "stream",
          "name": "stdout",
          "text": [
            "key a value 1\n",
            "key b value 2\n",
            "key c value 3\n",
            "key d value 4\n",
            "enter any key d\n",
            "enter the updated value 7\n",
            "key found and value updated\n",
            "updated dictionary : {'a': 1, 'b': 2, 'c': 3, 'd': 7}\n"
          ]
        }
      ]
    },
    {
      "cell_type": "markdown",
      "source": [
        "## 7. Write python program to join, merge, concatente the two dictionaries..\n"
      ],
      "metadata": {
        "id": "vV00n0awk5_G"
      }
    },
    {
      "cell_type": "code",
      "source": [
        "d1={'a':1,'b':2}\n",
        "d2={'c':3,'d':4}\n",
        "m=d1.copy()\n",
        "m.update(d2)\n",
        "print(d1)\n",
        "print(d2)\n",
        "print(m)"
      ],
      "metadata": {
        "colab": {
          "base_uri": "https://localhost:8080/"
        },
        "id": "VPjQpx4T_zg2",
        "outputId": "0846aec5-6ad7-4cbb-8bbb-f4df46090475"
      },
      "execution_count": 19,
      "outputs": [
        {
          "output_type": "stream",
          "name": "stdout",
          "text": [
            "{'a': 1, 'b': 2}\n",
            "{'c': 3, 'd': 4}\n",
            "{'a': 1, 'b': 2, 'c': 3, 'd': 4}\n"
          ]
        }
      ]
    },
    {
      "cell_type": "markdown",
      "source": [
        "## 8. How would you check a specific keys from the dictionary??\n"
      ],
      "metadata": {
        "id": "Z_7dpypWnQ-z"
      }
    },
    {
      "cell_type": "code",
      "source": [
        "d={'a':1,'b':2,'c':3,'d':4}\n",
        "m=str(input(\"enter a key to check \"))\n",
        "if m in d:\n",
        "  print(\"key found\")\n",
        "else:\n",
        "  print(\"key not found\")"
      ],
      "metadata": {
        "colab": {
          "base_uri": "https://localhost:8080/"
        },
        "id": "RDJX_4raCwgO",
        "outputId": "598a5b3c-177c-4890-f7f3-6d0b16087080"
      },
      "execution_count": 21,
      "outputs": [
        {
          "output_type": "stream",
          "name": "stdout",
          "text": [
            "enter a key to check c\n",
            "key found\n"
          ]
        }
      ]
    },
    {
      "cell_type": "markdown",
      "source": [
        "## 9. write a python program to find the unique vowel present in the sentence"
      ],
      "metadata": {
        "id": "EjxeB4ntnirH"
      }
    },
    {
      "cell_type": "code",
      "source": [
        "s=str(input(\"enter a sentence \"))\n",
        "vowels=['A','E','I','O','U','a','e','i','o','u']\n",
        "unique=set()\n",
        "for i in s:\n",
        "  if i in vowels:\n",
        "    unique.add(i)\n",
        "a=sorted(unique)\n",
        "print(\"unique vowels in sentence\")\n",
        "print(a)"
      ],
      "metadata": {
        "colab": {
          "base_uri": "https://localhost:8080/"
        },
        "id": "T-ubV8BuEWvL",
        "outputId": "00fdeb30-47d4-4903-82dd-af17694012a0"
      },
      "execution_count": 24,
      "outputs": [
        {
          "output_type": "stream",
          "name": "stdout",
          "text": [
            "enter a sentence gOod morning \n",
            "unique vowels in sentence\n",
            "['O', 'i', 'o']\n"
          ]
        }
      ]
    },
    {
      "cell_type": "markdown",
      "source": [
        "## 10. We know that tuple is immutable, do any thing and add element to the tuples."
      ],
      "metadata": {
        "id": "B1VBImcfns6V"
      }
    },
    {
      "cell_type": "code",
      "source": [
        "#by adding two tuples\n",
        "t1=(1,2,3)\n",
        "t2=(4,5,6)\n",
        "print(t1+t2)\n",
        "#by converting into list\n",
        "t=(1,2,3,4,5,6)\n",
        "l=list(t)\n",
        "l.append(7)\n",
        "updtuple=tuple(l)\n",
        "print(updtuple)"
      ],
      "metadata": {
        "colab": {
          "base_uri": "https://localhost:8080/"
        },
        "id": "IpC1aIL4GfLv",
        "outputId": "0be3a014-da8f-4cba-8a6c-f1b5c967173c"
      },
      "execution_count": 26,
      "outputs": [
        {
          "output_type": "stream",
          "name": "stdout",
          "text": [
            "(1, 2, 3, 4, 5, 6)\n",
            "(1, 2, 3, 4, 5, 6, 7)\n"
          ]
        }
      ]
    },
    {
      "cell_type": "markdown",
      "source": [
        "## 11. How would you sum the list of tuple and sum of tuple of list\n",
        "list  = [(2,3),(4,5),(6,4)]\n",
        "output= [5,9,10]\n",
        "\n",
        "tuple  =([2,3],[4,5],[6,4])\n",
        "output  =  (5,9,10)"
      ],
      "metadata": {
        "id": "Yd7tDQHuoGFm"
      }
    },
    {
      "cell_type": "code",
      "source": [
        "l=[(2,3),(4,5),(6,4)]\n",
        "print(\"list of tuples is :\",l)\n",
        "l2=[]\n",
        "for i in l:\n",
        "  l2.append(sum(i))\n",
        "print(\"sum of tuples in list \",l2)\n",
        "t=([2,3],[4,5],[6,4])\n",
        "print(\"tuple of lists \",t)\n",
        "t2=[]\n",
        "for i in t:\n",
        "  t2.append(sum(i))\n",
        "t1=tuple(t2)\n",
        "print(\"sum of lists in tuple \",t1)"
      ],
      "metadata": {
        "colab": {
          "base_uri": "https://localhost:8080/"
        },
        "id": "IPMBXD08HExa",
        "outputId": "2fd48e76-bb6d-4a6d-c6c7-8db64f9dcfa2"
      },
      "execution_count": 31,
      "outputs": [
        {
          "output_type": "stream",
          "name": "stdout",
          "text": [
            "list of tuples is : [(2, 3), (4, 5), (6, 4)]\n",
            "sum of tuples in list  [5, 9, 10]\n",
            "tuple of lists  ([2, 3], [4, 5], [6, 4])\n",
            "sum of lists in tuple  (5, 9, 10)\n"
          ]
        }
      ]
    },
    {
      "cell_type": "markdown",
      "source": [
        "## 12. FIND THE FREQUENCY OF THE KEYS IN THE GIVEN DICTIONARY"
      ],
      "metadata": {
        "id": "YiXg_vDpoq7X"
      }
    },
    {
      "cell_type": "code",
      "source": [
        "d={'a':1,'b':2,'c':3,'d':4}\n",
        "freq={}\n",
        "for key in d:\n",
        "  if key in freq:\n",
        "    freq[key]+=1\n",
        "  else:\n",
        "    freq[key]=1\n",
        "for key,value in freq.items():\n",
        "  print(\"key:\",key,\"frequency:\",value)"
      ],
      "metadata": {
        "colab": {
          "base_uri": "https://localhost:8080/"
        },
        "id": "MSh-u0MTJdAL",
        "outputId": "cddb88fd-7518-4425-e29f-3b826f37dc82"
      },
      "execution_count": 32,
      "outputs": [
        {
          "output_type": "stream",
          "name": "stdout",
          "text": [
            "key: a frequency: 1\n",
            "key: b frequency: 1\n",
            "key: c frequency: 1\n",
            "key: d frequency: 1\n"
          ]
        }
      ]
    }
  ]
}