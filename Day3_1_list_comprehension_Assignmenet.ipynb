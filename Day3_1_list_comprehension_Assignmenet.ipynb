{
  "nbformat": 4,
  "nbformat_minor": 0,
  "metadata": {
    "colab": {
      "provenance": [],
      "include_colab_link": true
    },
    "kernelspec": {
      "name": "python3",
      "display_name": "Python 3"
    },
    "language_info": {
      "name": "python"
    }
  },
  "cells": [
    {
      "cell_type": "markdown",
      "metadata": {
        "id": "view-in-github",
        "colab_type": "text"
      },
      "source": [
        "<a href=\"https://colab.research.google.com/github/Varshithanelli/python/blob/main/Day3_1_list_comprehension_Assignmenet.ipynb\" target=\"_parent\"><img src=\"https://colab.research.google.com/assets/colab-badge.svg\" alt=\"Open In Colab\"/></a>"
      ]
    },
    {
      "cell_type": "markdown",
      "source": [],
      "metadata": {
        "id": "KZ91_NegViLz"
      }
    },
    {
      "cell_type": "markdown",
      "source": [
        "## problem 1\n",
        "Create a dictionary where the keys correspond to the area of a flat adn value for each is the price of the house for 10 flat in kompally"
      ],
      "metadata": {
        "id": "B1Fhdmi9V3LI"
      }
    },
    {
      "cell_type": "code",
      "source": [
        "# Dictionary of house area and house prices of 10 houses in\n",
        "area_price = {\"flat1\":100,\"flat2\":200,\"flat3\":300,\"flat4\":400}\n",
        "print(area_price)"
      ],
      "metadata": {
        "id": "zihWmw3NWXQX",
        "outputId": "58d99c65-b124-4170-9566-7753fbdaddfe",
        "colab": {
          "base_uri": "https://localhost:8080/"
        }
      },
      "execution_count": 12,
      "outputs": [
        {
          "output_type": "stream",
          "name": "stdout",
          "text": [
            "{'flat1': 100, 'flat2': 200, 'flat3': 300, 'flat4': 400}\n"
          ]
        }
      ]
    },
    {
      "cell_type": "markdown",
      "source": [
        "### Now broker predicts the price as can be written as : <b><code>predicted_price(area) = 0.06*area + 15</code></b>"
      ],
      "metadata": {
        "id": "JI2jaDf8Wp2D"
      }
    },
    {
      "cell_type": "markdown",
      "source": [
        "Using the concept of list comprehension,create a list of predicted flat price using the above formula\n"
      ],
      "metadata": {
        "id": "v_K_Z8dtW6-D"
      }
    },
    {
      "cell_type": "code",
      "source": [
        "# Create a list of house areas\n",
        "l=[1000,2000,3000,4000]\n",
        "\n",
        "\n",
        "# Use list comprehension to store the predicted house prices in a list\n",
        "predicted_price=[(0.06*area)+15 for area in l]\n",
        "\n",
        "\n",
        "# Print the list of predicted flat prices\n",
        "print(predicted_price)\n"
      ],
      "metadata": {
        "id": "F732P6DHXVYH",
        "colab": {
          "base_uri": "https://localhost:8080/"
        },
        "outputId": "70258068-d4ae-40f2-aa57-61c8ef9b2853"
      },
      "execution_count": 1,
      "outputs": [
        {
          "output_type": "stream",
          "name": "stdout",
          "text": [
            "[75.0, 135.0, 195.0, 255.0]\n"
          ]
        }
      ]
    },
    {
      "cell_type": "markdown",
      "source": [
        "## Create another list which contains the squares of differences of each element of the two price lists : the actual prices and the predicted prices\n"
      ],
      "metadata": {
        "id": "-ZrRO78DXZq6"
      }
    },
    {
      "cell_type": "code",
      "source": [
        "actual_price=[100,200,300,400]\n",
        "predicted_price=[75,135,195,255]\n",
        "l3=[actual_price[i]-predicted_price[i] for i in range(len(actual_price))]\n",
        "#print(l3)\n",
        "squares=[num**2 for num in l3]\n",
        "print(squares)"
      ],
      "metadata": {
        "id": "dEpxZqK7XzeD",
        "colab": {
          "base_uri": "https://localhost:8080/"
        },
        "outputId": "3e3b4656-1bcf-4805-b9aa-172fa030f0c5"
      },
      "execution_count": 7,
      "outputs": [
        {
          "output_type": "stream",
          "name": "stdout",
          "text": [
            "[625, 4225, 11025, 21025]\n"
          ]
        }
      ]
    },
    {
      "cell_type": "markdown",
      "source": [
        "## <u> Problem 2</u>\n",
        "\n",
        "## A sigmoid function is a mathematical function having a characteristic \"S\"-shaped curve or sigmoid curve. A common example of a sigmoid function is the logistic function shown in the first figure and defined by the formula:\n",
        "\n",
        "$$ h(x) =  \\frac{\\mathrm{1} }{\\mathrm{1} + e^{-x} }  $$\n",
        "\n",
        "\n",
        "## Range is defined as all the possible values which the function $h(x)$ can take. Domain is defined as all the possible values which $x$ can take. In this case, range of the function is between 0 to 1 and the domain of the function is all real numbers"
      ],
      "metadata": {
        "id": "PEC_OtXRXrCg"
      }
    },
    {
      "cell_type": "markdown",
      "source": [
        "### You are given a list of values of $x$. You need to use list comprehension to calculate the corresponding transformation according to the sigmoid function defined above"
      ],
      "metadata": {
        "id": "YZCTres_XsB0"
      }
    },
    {
      "cell_type": "code",
      "source": [
        "# Return a list of boolean values if the sigmoid_of_x is greater than or equal to 0 and less than or equal to 1\n",
        "from math import exp\n",
        "\n",
        "l = [1, 2, 3, 4, 5, -2]\n",
        "s = [1 / (1 + exp(-x)) for x in l]\n",
        "boolean = [True if (x >= 0 and x <= 1) else False for x in s]\n",
        "# Create a list of those values which are greater than 0.5\n",
        "result = [x for x in s if x > 0.5]\n",
        "\n",
        "print(boolean)\n",
        "print(result)\n"
      ],
      "metadata": {
        "id": "TmYb4SluYC4S",
        "colab": {
          "base_uri": "https://localhost:8080/"
        },
        "outputId": "5a484657-d32b-42c6-8850-ee82eb3e630e"
      },
      "execution_count": 15,
      "outputs": [
        {
          "output_type": "stream",
          "name": "stdout",
          "text": [
            "[True, True, True, True, True, True]\n",
            "[0.7310585786300049, 0.8807970779778823, 0.9525741268224334, 0.9820137900379085, 0.9933071490757153]\n"
          ]
        }
      ]
    },
    {
      "cell_type": "markdown",
      "source": [
        "# <u> Problem 3</u>\n",
        "\n",
        "## You are given a sentence : <code>\"I have been walking and running and dancing and smiling and laughing all my life, yet it all seems pointless. So i stoped thinking and started doing\"</code>\n",
        "\n",
        "## You are required to extract all those words from this sentence in a list which ends with <code>ing</code>"
      ],
      "metadata": {
        "id": "j31JnVUtYNU-"
      }
    },
    {
      "cell_type": "code",
      "source": [
        "# Your sentence\n",
        "my_sentence = \"I have been walking and running and dancing and smiling and laughing all my life, yet it all seems pointless. So i stoped thinking and started doing\"\n",
        "words=my_sentence.split()\n",
        "#print(words)\n",
        "result = [word.strip(\",.\") for word in words if word.endswith(\"ing\")]\n",
        "print(result)"
      ],
      "metadata": {
        "id": "8s6rFnH2YO1z",
        "colab": {
          "base_uri": "https://localhost:8080/"
        },
        "outputId": "f837e086-5442-4c29-a162-097bbff183bc"
      },
      "execution_count": 3,
      "outputs": [
        {
          "output_type": "stream",
          "name": "stdout",
          "text": [
            "['walking', 'running', 'dancing', 'smiling', 'laughing', 'thinking', 'doing']\n"
          ]
        }
      ]
    },
    {
      "cell_type": "markdown",
      "source": [
        "# <u> Problem 4</u>\n",
        "\n",
        "#### Natural Language Processing or NLP is one of the most promising fields in Machine Learning. Most of the times in NLP we deal with the textual data (a bunch of strings). Sometimes when we are processing the text, it is a common practice to get rid of some set of stop words from our original text. By default stop words are very common words used in English language such as and, or, punctuations etc.\n",
        "\n",
        "#### In this exercise, you are provided with a default set of stop words and you need to add some extra set of custom words and remove these words from the given sentence and obtain the sentence without the stop words"
      ],
      "metadata": {
        "id": "rYwInhGlYOyz"
      }
    },
    {
      "cell_type": "code",
      "source": [
        "# A sample sentence\n",
        "sentence=\"In the midst of the bustling city, where the neon lights painted the night sky in a kaleidoscope of colors, people hurriedly navigated the crowded streets, their footsteps echoing against the towering buildings that seemed to reach for the heavens, while the distant hum of traffic blended with the laughter and chatter of diverse voices, creating a symphony of urban life that embraced both the chaos and harmony of the metropolis.\"\n",
        "# Print your sentence\n",
        "print(sentence)"
      ],
      "metadata": {
        "id": "b86yHqHEYOpp",
        "colab": {
          "base_uri": "https://localhost:8080/"
        },
        "outputId": "f02c0031-479a-4a55-b466-0566dd8ded73"
      },
      "execution_count": 7,
      "outputs": [
        {
          "output_type": "stream",
          "name": "stdout",
          "text": [
            "In the midst of the bustling city, where the neon lights painted the night sky in a kaleidoscope of colors, people hurriedly navigated the crowded streets, their footsteps echoing against the towering buildings that seemed to reach for the heavens, while the distant hum of traffic blended with the laughter and chatter of diverse voices, creating a symphony of urban life that embraced both the chaos and harmony of the metropolis.\n"
          ]
        }
      ]
    },
    {
      "cell_type": "code",
      "source": [
        "# Default set of stop words\n",
        "stop_words = {\"i\", \"me\", \"my\", \"myself\", \"we\", \"our\", \"ours\", \"ourselves\", \"you\", \"your\", \"yours\", \"yourself\",\n",
        "              \"yourselves\", \"he\", \"him\", \"his\", \"himself\", \"she\", \"her\", \"hers\", \"herself\", \"it\", \"its\", \"itself\",\n",
        "              \"they\", \"them\", \"their\", \"theirs\", \"themselves\", \"what\", \"which\", \"who\", \"whom\", \"this\", \"that\",\n",
        "              \"these\", \"those\", \"am\", \"is\", \"are\", \"was\", \"were\", \"be\", \"been\", \"being\", \"have\", \"has\", \"had\",\n",
        "              \"having\", \"do\", \"does\", \"did\", \"doing\", \"a\", \"an\", \"the\", \"and\", \"but\", \"if\", \"or\", \"because\",\n",
        "              \"as\", \"until\", \"while\", \"of\", \"at\", \"by\", \"for\", \"with\", \"about\", \"against\", \"between\", \"into\",\n",
        "              \"through\", \"during\", \"before\", \"after\", \"above\", \"below\", \"to\", \"from\", \"up\", \"down\", \"in\", \"out\",\n",
        "              \"on\", \"off\", \"over\", \"under\", \"again\", \"further\", \"then\", \"once\", \"here\", \"there\", \"when\", \"where\",\n",
        "              \"why\", \"how\", \"all\", \"any\", \"both\", \"each\", \"few\", \"more\", \"most\", \"other\", \"some\", \"such\", \"no\",\n",
        "              \"nor\", \"not\", \"only\", \"own\", \"same\", \"so\", \"than\", \"too\", \"very\", \"s\", \"t\", \"can\", \"will\", \"just\",\n",
        "              \"don\", \"should\", \"now\"}"
      ],
      "metadata": {
        "id": "RbyJscXWYh0z"
      },
      "execution_count": 5,
      "outputs": []
    },
    {
      "cell_type": "code",
      "source": [
        "\n",
        "custom_stop_words = [\"hello\",\"folks\",\"good\",\"morning\",\"half\",\"year\"]\n",
        "# Update the set of stop words by adding the custom stop words\n",
        "stop=stop_words.union(custom_stop_words)\n",
        "print(stop)\n"
      ],
      "metadata": {
        "id": "JCZ3mWDEYplT",
        "colab": {
          "base_uri": "https://localhost:8080/"
        },
        "outputId": "c5b86893-8971-4559-be31-aa3e9dc6ed6c"
      },
      "execution_count": 6,
      "outputs": [
        {
          "output_type": "stream",
          "name": "stdout",
          "text": [
            "{'once', 'hers', 'against', 'to', 'out', 'here', 'other', 'just', 'were', 'itself', 'if', 't', 'which', 'for', 'own', 'himself', 'no', 'with', 'below', 'their', 'further', 'or', 'are', 'each', 'ours', 'any', 'we', 'at', 'its', 'same', 'there', 'than', 'did', 'so', 'and', 'my', 'does', 'it', 'myself', 'an', 'themselves', 'ourselves', 'those', 'her', 'me', 'our', 'not', 'can', 'a', 'that', 'after', 'during', 'until', 'about', 'before', 'theirs', 'she', 'more', 'only', 'between', 'by', 'very', 'why', 'should', 'your', 'do', 'hello', 'then', 'will', 'off', 'be', 'you', 'i', 'had', 'most', 'don', 'nor', 'was', 'some', 'is', 'year', 'have', 'few', 'under', 'he', 'yourselves', 'folks', 'has', 'they', 'into', 'half', 'him', 'the', 'as', 'down', 'this', 'again', 'having', 'his', 'in', 'am', 'from', 'all', 'through', 'over', 'yourself', 'whom', 'because', 'now', 'while', 'how', 'what', 'above', 'too', 'doing', 'good', 'yours', 'being', 'such', 'up', 'when', 'both', 'who', 'been', 's', 'but', 'on', 'morning', 'herself', 'where', 'these', 'them', 'of'}\n"
          ]
        }
      ]
    },
    {
      "cell_type": "code",
      "source": [
        "# Create the list of words in the given sentence.\n",
        "words=sentence.split()\n",
        "print(words)"
      ],
      "metadata": {
        "id": "OG_iCUm9Yyx3",
        "colab": {
          "base_uri": "https://localhost:8080/"
        },
        "outputId": "dd1132f8-8fea-40cb-fc9e-c892a09f50ea"
      },
      "execution_count": 8,
      "outputs": [
        {
          "output_type": "stream",
          "name": "stdout",
          "text": [
            "['In', 'the', 'midst', 'of', 'the', 'bustling', 'city,', 'where', 'the', 'neon', 'lights', 'painted', 'the', 'night', 'sky', 'in', 'a', 'kaleidoscope', 'of', 'colors,', 'people', 'hurriedly', 'navigated', 'the', 'crowded', 'streets,', 'their', 'footsteps', 'echoing', 'against', 'the', 'towering', 'buildings', 'that', 'seemed', 'to', 'reach', 'for', 'the', 'heavens,', 'while', 'the', 'distant', 'hum', 'of', 'traffic', 'blended', 'with', 'the', 'laughter', 'and', 'chatter', 'of', 'diverse', 'voices,', 'creating', 'a', 'symphony', 'of', 'urban', 'life', 'that', 'embraced', 'both', 'the', 'chaos', 'and', 'harmony', 'of', 'the', 'metropolis.']\n"
          ]
        }
      ]
    },
    {
      "cell_type": "code",
      "source": [
        "# Use list comprehension to remove the set of updated stop words from the list of words\n",
        "b=[word for word in words if word.lower() not in stop]\n",
        "print(b)"
      ],
      "metadata": {
        "id": "Kk665UtXY3UH",
        "colab": {
          "base_uri": "https://localhost:8080/"
        },
        "outputId": "bbb66ecb-e1ef-4434-a9da-83c0593ab1a7"
      },
      "execution_count": 9,
      "outputs": [
        {
          "output_type": "stream",
          "name": "stdout",
          "text": [
            "['midst', 'bustling', 'city,', 'neon', 'lights', 'painted', 'night', 'sky', 'kaleidoscope', 'colors,', 'people', 'hurriedly', 'navigated', 'crowded', 'streets,', 'footsteps', 'echoing', 'towering', 'buildings', 'seemed', 'reach', 'heavens,', 'distant', 'hum', 'traffic', 'blended', 'laughter', 'chatter', 'diverse', 'voices,', 'creating', 'symphony', 'urban', 'life', 'embraced', 'chaos', 'harmony', 'metropolis.']\n"
          ]
        }
      ]
    },
    {
      "cell_type": "code",
      "source": [
        "# Finally using the join() method, get the sentence without the stop words. Keep in mind that every word in the sentence will be separated by space\n",
        "sen=' '.join(b)\n",
        "# Print the modified sentence\n",
        "print(sen)"
      ],
      "metadata": {
        "id": "RzO-jDZVY6wD",
        "colab": {
          "base_uri": "https://localhost:8080/"
        },
        "outputId": "cc481b1d-0ae2-49a1-a0b4-3acf82a8c380"
      },
      "execution_count": 11,
      "outputs": [
        {
          "output_type": "stream",
          "name": "stdout",
          "text": [
            "midst bustling city, neon lights painted night sky kaleidoscope colors, people hurriedly navigated crowded streets, footsteps echoing towering buildings seemed reach heavens, distant hum traffic blended laughter chatter diverse voices, creating symphony urban life embraced chaos harmony metropolis.\n"
          ]
        }
      ]
    }
  ]
}